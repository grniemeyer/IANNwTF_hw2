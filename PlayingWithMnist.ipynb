{
  "nbformat": 4,
  "nbformat_minor": 0,
  "metadata": {
    "colab": {
      "provenance": [],
      "authorship_tag": "ABX9TyMX2vfapC1jhvEiCx0L5hE/",
      "include_colab_link": true
    },
    "kernelspec": {
      "name": "python3",
      "display_name": "Python 3"
    },
    "language_info": {
      "name": "python"
    }
  },
  "cells": [
    {
      "cell_type": "markdown",
      "metadata": {
        "id": "view-in-github",
        "colab_type": "text"
      },
      "source": [
        "<a href=\"https://colab.research.google.com/github/grniemeyer/IANNwTF_hw2/blob/main/PlayingWithMnist.ipynb\" target=\"_parent\"><img src=\"https://colab.research.google.com/assets/colab-badge.svg\" alt=\"Open In Colab\"/></a>"
      ]
    },
    {
      "cell_type": "code",
      "execution_count": 46,
      "metadata": {
        "id": "2vDAL23ouiKA",
        "colab": {
          "base_uri": "https://localhost:8080/",
          "height": 1000
        },
        "outputId": "c4fb4bca-63be-47f8-dcda-8d4774c4fb25"
      },
      "outputs": [
        {
          "output_type": "stream",
          "name": "stdout",
          "text": [
            "tfds.core.DatasetInfo(\n",
            "    name='mnist',\n",
            "    full_name='mnist/3.0.1',\n",
            "    description=\"\"\"\n",
            "    The MNIST database of handwritten digits.\n",
            "    \"\"\",\n",
            "    homepage='http://yann.lecun.com/exdb/mnist/',\n",
            "    data_dir='/root/tensorflow_datasets/mnist/3.0.1',\n",
            "    file_format=tfrecord,\n",
            "    download_size=11.06 MiB,\n",
            "    dataset_size=21.00 MiB,\n",
            "    features=FeaturesDict({\n",
            "        'image': Image(shape=(28, 28, 1), dtype=uint8),\n",
            "        'label': ClassLabel(shape=(), dtype=int64, num_classes=10),\n",
            "    }),\n",
            "    supervised_keys=('image', 'label'),\n",
            "    disable_shuffling=False,\n",
            "    splits={\n",
            "        'test': <SplitInfo num_examples=10000, num_shards=1>,\n",
            "        'train': <SplitInfo num_examples=60000, num_shards=1>,\n",
            "    },\n",
            "    citation=\"\"\"@article{lecun2010mnist,\n",
            "      title={MNIST handwritten digit database},\n",
            "      author={LeCun, Yann and Cortes, Corinna and Burges, CJ},\n",
            "      journal={ATT Labs [Online]. Available: http://yann.lecun.com/exdb/mnist},\n",
            "      volume={2},\n",
            "      year={2010}\n",
            "    }\"\"\",\n",
            ")\n"
          ]
        },
        {
          "output_type": "display_data",
          "data": {
            "text/plain": [
              "<Figure size 900x900 with 9 Axes>"
            ],
            "image/png": "[encoded data removed]"
          },
          "metadata": {}
        },
        {
          "output_type": "stream",
          "name": "stdout",
          "text": [
            "tf.Tensor(\n",
            "[[-1. -1. -1. ... -1. -1. -1.]\n",
            " [-1. -1. -1. ... -1. -1. -1.]\n",
            " [-1. -1. -1. ... -1. -1. -1.]\n",
            " [-1. -1. -1. ... -1. -1. -1.]], shape=(4, 784), dtype=float32) tf.Tensor(\n",
            "[[1. 0. 0. 0. 0. 0. 0. 0. 0. 0.]\n",
            " [0. 0. 1. 0. 0. 0. 0. 0. 0. 0.]\n",
            " [0. 0. 0. 1. 0. 0. 0. 0. 0. 0.]\n",
            " [0. 0. 0. 1. 0. 0. 0. 0. 0. 0.]], shape=(4, 10), dtype=float32)\n"
          ]
        }
      ],
      "source": [
        "# Data prep\n",
        "\n",
        "import tensorflow_datasets as tfds\n",
        "import tensorflow as tf\n",
        "import numpy as np\n",
        "\n",
        "# tensorflow = (data) pipeline, factory\n",
        "# tensorflow tensor like array\n",
        "\n",
        "\n",
        "(train_ds,test_ds), ds_info = tfds.load('mnist', split=['train', 'test'], with_info=True)\n",
        "# print(ds_info)\n",
        "# tfds.show_examples(train_ds, ds_info)\n",
        "\n",
        "\n",
        "# remember order for exam!!\n",
        "ds = train_ds.map(lambda feature_dict: (feature_dict[\"image\"], feature_dict[\"label\"])) # ectract images and features\n",
        "ds = ds.map(lambda image, label: (tf.reshape(image, (-1,)), label)) # flatten images, pass on labels\n",
        "ds = ds.map(lambda image, label: ((tf.cast(image, tf.float32) / 128.0) -1, label)) # normalize images and pass on\n",
        "ds = ds.map(lambda image, label: (image, tf.one_hot(label, depth=10))) # one hottify\n",
        "ds = ds.shuffle(1024).batch(4) # create small buffer(9 pieces of choc bzw. 1024) in between for shuffling then batch; tf's batch operation takes care of the remainder shape\n",
        "trains_ds = ds.prefetch(4) # parralelisation: 2nd buffer that has always shuffled (prefetched) batches availabe. Shuffling & prefetching takes lot of memory\n",
        "\n",
        "\n",
        "for x, y in ds.take(1):\n",
        "  print(x, y)\n",
        "\n",
        "\n",
        "# • How many training/test images are there?\n",
        "# - 'test' 10,000, train' 60,000\n",
        "# • What’s the image shape?\n",
        "# - (28, 28, 1)\n",
        "# • What range are pixel values in?\n",
        "# - In grayscale images, a pixel value of 0 represents black, and 255 represents white"
      ]
    },
    {
      "cell_type": "code",
      "source": [
        "# 2.3 Building a DNN with TF\n",
        "from tensorflow.keras.layers import Dense\n",
        "\n",
        "class MyDeepNN():\n",
        "  def __init__(self):\n",
        "    super(MyDeepNN, self).__init__()\n",
        "    self.dense1 = tf.keras.layers.Dense(256, activation=tf.nn.relu)\n",
        "    self.dense2 = tf.keras.layers.Dense(256, activation=tf.nn.relu)\n",
        "    self.out = tf.keras.layers.Dense(10, activation=tf.nn.softmax)\n",
        "\n",
        "  @tf.function # decorator -> adds special functionalities to function below\n",
        "  def call(self, inputs):\n",
        "    x = self.dense1(inputs)\n",
        "    x = self.dense2(x)\n",
        "    y = self.out(x)\n",
        "    return y\n",
        "\n",
        "\n"
      ],
      "metadata": {
        "id": "f9CP2B7hFHRP"
      },
      "execution_count": 55,
      "outputs": []
    },
    {
      "cell_type": "code",
      "source": [
        "# 2.4 Training the Network\n",
        "\n",
        "\n",
        "# define hyperparameters\n",
        "nr_epochs = 10\n",
        "learning_rate = 0.1\n",
        "\n",
        "# initialize stuff\n",
        "mymodel = MyDeepNN()\n",
        "cross_entropy_loss = tf.keras.losses.CategoricalCrossentropy()\n",
        "opti = tf.keras.optimizers.SGD(learning_rate)\n",
        "\n",
        "# lists (for viualization later)\n",
        "train_losses = []\n",
        "test_losses = []\n",
        "test_accuracies = []\n",
        "\n",
        "# test before sending through NN, for comparison afterwards\n",
        "#test_loss, test_accuracy = test(mymodel, train_ds, cross_entropy_loss)\n",
        "#test_losses_append(test_loss)\n",
        "#test_accuracies.append(test_accuracy)\n",
        "\n",
        "# test with train_ds before training NN\n",
        "#train_loss,_ = test(mymodel, train_ds, cross_entropy_loss)\n",
        "#train_losses.append(train_loss)\n",
        "\n",
        "\n",
        "# tests on 1 input-target pair\n",
        "def train_step(model, input, target, loss_function, optimizer):\n",
        "  with tf.GradientTape() as tape:\n",
        "    prediction = model(input)\n",
        "    loss = loss_function(target, prediction)\n",
        "  gradients = tape.gradient(loss, model.trainable_variables) # trainable_variables = weights?\n",
        "  optimizer.apply_gradients(zip(gradients, model.trainable_variables))\n",
        "  return loss\n",
        "\n",
        "\n",
        "def test(model, test_ds, loss_function):\n",
        "  test_accuracy_aggregator = []\n",
        "  test_loss_aggregator = []\n",
        "\n",
        "  for (image, target) in test_ds:\n",
        "    prediction = model(image)\n",
        "    sample_test_loss = loss_function(target, prediction)\n",
        "    sample_test_accuracy = np.argmax(target, axis=1) == np.armay(prediction, axis=1)\n",
        "    sample_test_accuracy = np.mean(sample_test_accuracy)\n",
        "    test_loss_aggregator.append(sample_test_loss.numpy())\n",
        "    test_accuracy_aggregator.append(np.mean(sample_test_accuracy))# double averaging??\n",
        "\n",
        "  test_loss = tf.reduce_mean(test_loss_aggregator)\n",
        "  test_accuracy = tf.reduce_mean(test_accuracy_aggregator)\n",
        "\n",
        "  return test_loss, test_accuracy\n",
        "\n",
        "\n",
        "\n",
        "for epoch in range(nr_epochs):\n",
        "#  print(f\"epoch: {str(epoch)} with accuracy {test_accuracies[-1]}\") # starting with last element in test_accuracies\n",
        "\n",
        "  # training\n",
        "  epoch_losses = []\n",
        "  for image, label in train_ds:\n",
        "    train_loss = train_step(mymodel, image, label, cross_entropy_loss, opti)\n",
        "    epoch_losses.append(train_loss)\n",
        "\n",
        "  # track training loss\n",
        "  train_losses.append(tf.reduce_mean(epoch_losses)) #take the mean\n",
        "\n",
        "  # testing (track test loss and test accuracy)\n",
        "  test_loss, test_accuracy = test(mymodel,test_ds, cross_entropy_loss)\n",
        "  test_losses.append(test_loss)\n",
        "  test_accuracies.append(test_accuracy)\n"
      ],
      "metadata": {
        "id": "9ETX31V2e6mp",
        "outputId": "b4e9e129-3480-4b0b-bb51-fcdc954cb3d0",
        "colab": {
          "base_uri": "https://localhost:8080/",
          "height": 366
        }
      },
      "execution_count": 56,
      "outputs": [
        {
          "output_type": "error",
          "ename": "TypeError",
          "evalue": "ignored",
          "traceback": [
            "\u001b[0;31m---------------------------------------------------------------------------\u001b[0m",
            "\u001b[0;31mTypeError\u001b[0m                                 Traceback (most recent call last)",
            "\u001b[0;32m<ipython-input-56-e6480b76bc7d>\u001b[0m in \u001b[0;36m<cell line: 68>\u001b[0;34m()\u001b[0m\n\u001b[1;32m     72\u001b[0m   \u001b[0mepoch_losses\u001b[0m \u001b[0;34m=\u001b[0m \u001b[0;34m[\u001b[0m\u001b[0;34m]\u001b[0m\u001b[0;34m\u001b[0m\u001b[0;34m\u001b[0m\u001b[0m\n\u001b[1;32m     73\u001b[0m   \u001b[0;32mfor\u001b[0m \u001b[0mimage\u001b[0m\u001b[0;34m,\u001b[0m \u001b[0mlabel\u001b[0m \u001b[0;32min\u001b[0m \u001b[0mtrain_ds\u001b[0m\u001b[0;34m:\u001b[0m\u001b[0;34m\u001b[0m\u001b[0;34m\u001b[0m\u001b[0m\n\u001b[0;32m---> 74\u001b[0;31m     \u001b[0mtrain_loss\u001b[0m \u001b[0;34m=\u001b[0m \u001b[0mtrain_step\u001b[0m\u001b[0;34m(\u001b[0m\u001b[0mmymodel\u001b[0m\u001b[0;34m,\u001b[0m \u001b[0mimage\u001b[0m\u001b[0;34m,\u001b[0m \u001b[0mlabel\u001b[0m\u001b[0;34m,\u001b[0m \u001b[0mcross_entropy_loss\u001b[0m\u001b[0;34m,\u001b[0m \u001b[0mopti\u001b[0m\u001b[0;34m)\u001b[0m\u001b[0;34m\u001b[0m\u001b[0;34m\u001b[0m\u001b[0m\n\u001b[0m\u001b[1;32m     75\u001b[0m     \u001b[0mepoch_losses\u001b[0m\u001b[0;34m.\u001b[0m\u001b[0mappend\u001b[0m\u001b[0;34m(\u001b[0m\u001b[0mtrain_loss\u001b[0m\u001b[0;34m)\u001b[0m\u001b[0;34m\u001b[0m\u001b[0;34m\u001b[0m\u001b[0m\n\u001b[1;32m     76\u001b[0m \u001b[0;34m\u001b[0m\u001b[0m\n",
            "\u001b[0;32m<ipython-input-56-e6480b76bc7d>\u001b[0m in \u001b[0;36mtrain_step\u001b[0;34m(model, input, target, loss_function, optimizer)\u001b[0m\n\u001b[1;32m     39\u001b[0m \u001b[0;32mdef\u001b[0m \u001b[0mtrain_step\u001b[0m\u001b[0;34m(\u001b[0m\u001b[0mmodel\u001b[0m\u001b[0;34m,\u001b[0m \u001b[0minput\u001b[0m\u001b[0;34m,\u001b[0m \u001b[0mtarget\u001b[0m\u001b[0;34m,\u001b[0m \u001b[0mloss_function\u001b[0m\u001b[0;34m,\u001b[0m \u001b[0moptimizer\u001b[0m\u001b[0;34m)\u001b[0m\u001b[0;34m:\u001b[0m\u001b[0;34m\u001b[0m\u001b[0;34m\u001b[0m\u001b[0m\n\u001b[1;32m     40\u001b[0m   \u001b[0;32mwith\u001b[0m \u001b[0mtf\u001b[0m\u001b[0;34m.\u001b[0m\u001b[0mGradientTape\u001b[0m\u001b[0;34m(\u001b[0m\u001b[0;34m)\u001b[0m \u001b[0;32mas\u001b[0m \u001b[0mtape\u001b[0m\u001b[0;34m:\u001b[0m\u001b[0;34m\u001b[0m\u001b[0;34m\u001b[0m\u001b[0m\n\u001b[0;32m---> 41\u001b[0;31m     \u001b[0mprediction\u001b[0m \u001b[0;34m=\u001b[0m \u001b[0mmodel\u001b[0m\u001b[0;34m(\u001b[0m\u001b[0minput\u001b[0m\u001b[0;34m)\u001b[0m\u001b[0;34m\u001b[0m\u001b[0;34m\u001b[0m\u001b[0m\n\u001b[0m\u001b[1;32m     42\u001b[0m     \u001b[0mloss\u001b[0m \u001b[0;34m=\u001b[0m \u001b[0mloss_function\u001b[0m\u001b[0;34m(\u001b[0m\u001b[0mtarget\u001b[0m\u001b[0;34m,\u001b[0m \u001b[0mprediction\u001b[0m\u001b[0;34m)\u001b[0m\u001b[0;34m\u001b[0m\u001b[0;34m\u001b[0m\u001b[0m\n\u001b[1;32m     43\u001b[0m   \u001b[0mgradients\u001b[0m \u001b[0;34m=\u001b[0m \u001b[0mtape\u001b[0m\u001b[0;34m.\u001b[0m\u001b[0mgradient\u001b[0m\u001b[0;34m(\u001b[0m\u001b[0mloss\u001b[0m\u001b[0;34m,\u001b[0m \u001b[0mmodel\u001b[0m\u001b[0;34m.\u001b[0m\u001b[0mtrainable_variables\u001b[0m\u001b[0;34m)\u001b[0m \u001b[0;31m# trainable_variables = weights?\u001b[0m\u001b[0;34m\u001b[0m\u001b[0;34m\u001b[0m\u001b[0m\n",
            "\u001b[0;31mTypeError\u001b[0m: 'MyDeepNN' object is not callable"
          ]
        }
      ]
    },
    {
      "cell_type": "code",
      "source": [
        "# Model Creation via Subclassing from tf.keras.Model\n",
        "\n",
        "#inherit from keras.Model\n",
        "class MLP_Model(self, layer_size):\n",
        "  def __init__(self, layer_size, output_size=10):\n",
        "    super().__init__()\n",
        "    self.layers = []\n",
        "    #layer_size e.g.[256, 256]\n",
        "\n",
        "    for layer_size in layer_sizes:\n",
        "      new_layer = tf.keras.layers.Dense(units=layer_size, activation=\"sigmoid\")\n",
        "      self.layers.append(new_layer)\n",
        "    self.output_layer = tf.keras.layers.Dense(units=output_size, activation=\"softmax\") # output layer ist deshalb specified seperately bc we need different activation function\n",
        "\n",
        "  def call(self, x):\n",
        "    for layer in self.layers:\n",
        "      x = layer(x) # call layer on input\n",
        "    y = self.output.layer(x)\n",
        "    return y"
      ],
      "metadata": {
        "id": "tK6rhidICYz5",
        "outputId": "95c47402-1f09-4143-ee8d-ca19e13b73d7",
        "colab": {
          "base_uri": "https://localhost:8080/",
          "height": 383
        }
      },
      "execution_count": 34,
      "outputs": [
        {
          "output_type": "error",
          "ename": "ModuleNotFoundError",
          "evalue": "ignored",
          "traceback": [
            "\u001b[0;31m---------------------------------------------------------------------------\u001b[0m",
            "\u001b[0;31mModuleNotFoundError\u001b[0m                       Traceback (most recent call last)",
            "\u001b[0;32m<ipython-input-34-8c8c162bb783>\u001b[0m in \u001b[0;36m<cell line: 3>\u001b[0;34m()\u001b[0m\n\u001b[1;32m      1\u001b[0m \u001b[0;31m# Model Creation via Subclassing from tf.keras.Model\u001b[0m\u001b[0;34m\u001b[0m\u001b[0;34m\u001b[0m\u001b[0m\n\u001b[1;32m      2\u001b[0m \u001b[0;32mimport\u001b[0m \u001b[0mtensorflow\u001b[0m \u001b[0;32mas\u001b[0m \u001b[0mtf\u001b[0m\u001b[0;34m\u001b[0m\u001b[0;34m\u001b[0m\u001b[0m\n\u001b[0;32m----> 3\u001b[0;31m \u001b[0;32mimport\u001b[0m \u001b[0mtf\u001b[0m\u001b[0;34m.\u001b[0m\u001b[0mKeras\u001b[0m\u001b[0;34m.\u001b[0m\u001b[0mModel\u001b[0m\u001b[0;34m\u001b[0m\u001b[0;34m\u001b[0m\u001b[0m\n\u001b[0m\u001b[1;32m      4\u001b[0m \u001b[0;34m\u001b[0m\u001b[0m\n\u001b[1;32m      5\u001b[0m \u001b[0;31m#inherit from keras.Model\u001b[0m\u001b[0;34m\u001b[0m\u001b[0;34m\u001b[0m\u001b[0m\n",
            "\u001b[0;31mModuleNotFoundError\u001b[0m: No module named 'tf'",
            "",
            "\u001b[0;31m---------------------------------------------------------------------------\u001b[0;32m\nNOTE: If your import is failing due to a missing package, you can\nmanually install dependencies using either !pip or !apt.\n\nTo view examples of installing some common dependencies, click the\n\"Open Examples\" button below.\n\u001b[0;31m---------------------------------------------------------------------------\u001b[0m\n"
          ],
          "errorDetails": {
            "actions": [
              {
                "action": "open_url",
                "actionText": "Open Examples",
                "url": "/notebooks/snippets/importing_libraries.ipynb"
              }
            ]
          }
        }
      ]
    },
    {
      "cell_type": "code",
      "source": [
        "# Training\n",
        "\n",
        "EPOCHS = 10\n",
        "\n",
        "model = MLP_Model(layer_sizes=[256, 256])\n",
        "cce = tf.keras.CategoricalCrossEntropy()\n",
        "optimizer = tf.keras.optimizers.legacy.SGD() # stochastic gradient as optimizer\n",
        "ds = ds # does nothing, just as reminder from above\n",
        "\n",
        "for epoch in range(EPOCHS):\n",
        "  losses = []\n",
        "\n",
        "  for x, target in ds:\n",
        "    with tf.GradientTape() as tape: # context manager\n",
        "      pred = model(x)\n",
        "      loss = cce(target, pred)\n",
        "    gradients = tape.gradient(loss, model.varibles) # calculate gradient outside of GradientTape, otherwis it calculates gradient of gradient (memory!!, rare exceptions)\n",
        "    optimizer.appy_gradients(zip(gradients, model.variables))\n",
        "    losses.append(loss.numpy())\n",
        "  print(np.mean(losses))"
      ],
      "metadata": {
        "id": "zD6Q6lWMFsaf"
      },
      "execution_count": null,
      "outputs": []
    },
    {
      "cell_type": "code",
      "source": [],
      "metadata": {
        "id": "pmP01ImfBLkn"
      },
      "execution_count": null,
      "outputs": []
    },
    {
      "cell_type": "markdown",
      "source": [
        "### TF Session 20.11.23 - custom gradient"
      ],
      "metadata": {
        "id": "sdpnrenyBM85"
      }
    },
    {
      "cell_type": "code",
      "source": [
        "# custom gradient\n",
        "import tensorflow as tf\n",
        "import numpy as np\n",
        "\n",
        "\n",
        "sample_input = tf.random.uniform(shape = (4,2), dtype=np.float32)\n",
        "\n",
        "# @ - indicates a decorater function\n",
        "\n",
        "#tf.custom_gradient()\n",
        "\n",
        "\n",
        "# writing own sigmoid\n",
        "\n",
        "@tf.custom_gradient\n",
        "def my_sigmoid(x):\n",
        "  sigmoid_res = 1/1+tf.exp(-x)\n",
        "  def grad(upstream):\n",
        "    diag_of_jacobian = sigmoid_res*(1-sigmoid_res)\n",
        "    downstream = upstream*diag_of_jacobian\n",
        "  return sigmoid_res, grad"
      ],
      "metadata": {
        "id": "3ujXkH9WBMD0"
      },
      "execution_count": null,
      "outputs": []
    },
    {
      "cell_type": "code",
      "source": [
        "# writing own ReLu\n",
        "\n",
        "# hint: use with tf.where\n",
        "\n",
        "def my_relu(x):\n",
        "  relus = tf.where(x>0, x, tf.zeros_like(x))\n",
        "\n",
        "  def grad(upstream):\n",
        "    d_dx = tf.where(x>0, tf.ones_like(x), tf.zeros_like(x))\n",
        "    downstream = upstream*d_dx\n",
        "    return downstream\n",
        "  return relus, grad"
      ],
      "metadata": {
        "id": "EygSrPr_E-p0"
      },
      "execution_count": null,
      "outputs": []
    },
    {
      "cell_type": "code",
      "source": [
        "# explain gradientTape\n",
        "\n",
        "sample_input = tf.Variable(initial_value=sample_input)\n",
        "with tf.GradientTape(persistent = True) as tape:\n",
        "  my_relu_act = my_relu(sample_input)\n",
        "#  tf_relu_act = tf.nn.relu(sample_input) # common tf relu for comparison (however not possible to compute together, too much memory asked, so not possible or tell to be \"persistent\", buuut can crash your memory) 1.0\n",
        "#grads_tf_relu = tape.gradient(tf_relu_act, [sample_input]) # 2.0\n",
        "grads_my_relu = tape.gradient(my_relu_act, [sample_input])\n",
        "print(grads_my_relu)"
      ],
      "metadata": {
        "colab": {
          "base_uri": "https://localhost:8080/",
          "height": 355
        },
        "id": "b-OlTjb3IwLl",
        "outputId": "150f7631-6a92-4d82-f6b1-6c726c8d1285"
      },
      "execution_count": null,
      "outputs": [
        {
          "output_type": "error",
          "ename": "TypeError",
          "evalue": "ignored",
          "traceback": [
            "\u001b[0;31m---------------------------------------------------------------------------\u001b[0m",
            "\u001b[0;31mTypeError\u001b[0m                                 Traceback (most recent call last)",
            "\u001b[0;32m<ipython-input-15-56a5f5889f6b>\u001b[0m in \u001b[0;36m<cell line: 8>\u001b[0;34m()\u001b[0m\n\u001b[1;32m      6\u001b[0m \u001b[0;31m#  tf_relu_act = tf.nn.relu(sample_input) # common tf relu for comparison (however not possible to compute together, too much memory asked, so not possible or tell to be \"persistent\", buuut can crash your memory) 1.0\u001b[0m\u001b[0;34m\u001b[0m\u001b[0;34m\u001b[0m\u001b[0m\n\u001b[1;32m      7\u001b[0m \u001b[0;31m#grads_tf_relu = tape.gradient(tf_relu_act, [sample_input]) # 2.0\u001b[0m\u001b[0;34m\u001b[0m\u001b[0;34m\u001b[0m\u001b[0m\n\u001b[0;32m----> 8\u001b[0;31m \u001b[0mgrads_my_relu\u001b[0m \u001b[0;34m=\u001b[0m \u001b[0mtape\u001b[0m\u001b[0;34m.\u001b[0m\u001b[0mgradient\u001b[0m\u001b[0;34m(\u001b[0m\u001b[0mmy_relu_act\u001b[0m\u001b[0;34m,\u001b[0m \u001b[0;34m[\u001b[0m\u001b[0msample_input\u001b[0m\u001b[0;34m]\u001b[0m\u001b[0;34m)\u001b[0m\u001b[0;34m\u001b[0m\u001b[0;34m\u001b[0m\u001b[0m\n\u001b[0m\u001b[1;32m      9\u001b[0m \u001b[0mprint\u001b[0m\u001b[0;34m(\u001b[0m\u001b[0mgrads_my_relu\u001b[0m\u001b[0;34m)\u001b[0m\u001b[0;34m\u001b[0m\u001b[0;34m\u001b[0m\u001b[0m\n",
            "\u001b[0;32m/usr/local/lib/python3.10/dist-packages/tensorflow/python/eager/backprop.py\u001b[0m in \u001b[0;36mgradient\u001b[0;34m(self, target, sources, output_gradients, unconnected_gradients)\u001b[0m\n\u001b[1;32m   1031\u001b[0m \u001b[0;34m\u001b[0m\u001b[0m\n\u001b[1;32m   1032\u001b[0m     \u001b[0;32mfor\u001b[0m \u001b[0mt\u001b[0m \u001b[0;32min\u001b[0m \u001b[0mflat_targets\u001b[0m\u001b[0;34m:\u001b[0m\u001b[0;34m\u001b[0m\u001b[0;34m\u001b[0m\u001b[0m\n\u001b[0;32m-> 1033\u001b[0;31m       \u001b[0;32mif\u001b[0m \u001b[0;32mnot\u001b[0m \u001b[0mbackprop_util\u001b[0m\u001b[0;34m.\u001b[0m\u001b[0mIsTrainable\u001b[0m\u001b[0;34m(\u001b[0m\u001b[0mt\u001b[0m\u001b[0;34m)\u001b[0m\u001b[0;34m:\u001b[0m\u001b[0;34m\u001b[0m\u001b[0;34m\u001b[0m\u001b[0m\n\u001b[0m\u001b[1;32m   1034\u001b[0m         logging.vlog(\n\u001b[1;32m   1035\u001b[0m             \u001b[0;36m1\u001b[0m\u001b[0;34m,\u001b[0m \u001b[0;34m\"The dtype of the target tensor must be \"\u001b[0m\u001b[0;34m\u001b[0m\u001b[0;34m\u001b[0m\u001b[0m\n",
            "\u001b[0;32m/usr/local/lib/python3.10/dist-packages/tensorflow/python/eager/backprop_util.py\u001b[0m in \u001b[0;36mIsTrainable\u001b[0;34m(tensor_or_dtype)\u001b[0m\n\u001b[1;32m     57\u001b[0m   \u001b[0;32melse\u001b[0m\u001b[0;34m:\u001b[0m\u001b[0;34m\u001b[0m\u001b[0;34m\u001b[0m\u001b[0m\n\u001b[1;32m     58\u001b[0m     \u001b[0mdtype\u001b[0m \u001b[0;34m=\u001b[0m \u001b[0mtensor_or_dtype\u001b[0m\u001b[0;34m\u001b[0m\u001b[0;34m\u001b[0m\u001b[0m\n\u001b[0;32m---> 59\u001b[0;31m   \u001b[0mdtype\u001b[0m \u001b[0;34m=\u001b[0m \u001b[0mdtypes\u001b[0m\u001b[0;34m.\u001b[0m\u001b[0mas_dtype\u001b[0m\u001b[0;34m(\u001b[0m\u001b[0mdtype\u001b[0m\u001b[0;34m)\u001b[0m\u001b[0;34m\u001b[0m\u001b[0;34m\u001b[0m\u001b[0m\n\u001b[0m\u001b[1;32m     60\u001b[0m   trainable_dtypes = [dtypes.float16, dtypes.float32, dtypes.float64,\n\u001b[1;32m     61\u001b[0m                       \u001b[0mdtypes\u001b[0m\u001b[0;34m.\u001b[0m\u001b[0mcomplex64\u001b[0m\u001b[0;34m,\u001b[0m \u001b[0mdtypes\u001b[0m\u001b[0;34m.\u001b[0m\u001b[0mcomplex128\u001b[0m\u001b[0;34m,\u001b[0m \u001b[0mdtypes\u001b[0m\u001b[0;34m.\u001b[0m\u001b[0mresource\u001b[0m\u001b[0;34m,\u001b[0m\u001b[0;34m\u001b[0m\u001b[0;34m\u001b[0m\u001b[0m\n",
            "\u001b[0;32m/usr/local/lib/python3.10/dist-packages/tensorflow/python/framework/dtypes.py\u001b[0m in \u001b[0;36mas_dtype\u001b[0;34m(type_value)\u001b[0m\n\u001b[1;32m    856\u001b[0m     \u001b[0;32mreturn\u001b[0m \u001b[0m_INTERN_TABLE\u001b[0m\u001b[0;34m[\u001b[0m\u001b[0mtype_value\u001b[0m\u001b[0;34m.\u001b[0m\u001b[0mas_datatype_enum\u001b[0m\u001b[0;34m]\u001b[0m\u001b[0;34m\u001b[0m\u001b[0;34m\u001b[0m\u001b[0m\n\u001b[1;32m    857\u001b[0m \u001b[0;34m\u001b[0m\u001b[0m\n\u001b[0;32m--> 858\u001b[0;31m   raise TypeError(f\"Cannot convert the argument `type_value`: {type_value!r} \"\n\u001b[0m\u001b[1;32m    859\u001b[0m                   \"to a TensorFlow DType.\")\n",
            "\u001b[0;31mTypeError\u001b[0m: Cannot convert the argument `type_value`: <function my_relu.<locals>.grad at 0x79732ea3a950> to a TensorFlow DType."
          ]
        }
      ]
    },
    {
      "cell_type": "code",
      "source": [
        "res = []\n",
        "sample_input = tf.Variable(initial_value=tf.random.uniform(shape=(4,3)))\n",
        "\n",
        "@tf.function # saves time??, however only for tensorflow code, NO classical python code (print(), .append(), etc)\n",
        "def some_tf_loop():\n",
        "  for step in tf.range(10):\n",
        "    inputs = sample_input[step,:,:]\n",
        "  with tf.GradientTape(persistent = True) as tape:\n",
        "    my_relu_act = my_relu(sample_input)\n",
        "    tf_relu_act = tf.nn.relu(sample_input)\n",
        "  grads_tf_relu = tape.gradient(tf_relu_act, [sample_input])\n",
        "  grads_my_relu = tape.gradient(my_relu_act, [sample_input])\n",
        "  del tape\n",
        "\n",
        "print(grads_tf_relu, grads_my_relu)"
      ],
      "metadata": {
        "colab": {
          "base_uri": "https://localhost:8080/",
          "height": 210
        },
        "id": "vp_qX_BLL_y7",
        "outputId": "d2e0e565-7c2f-4c16-ffe4-3b705378583c"
      },
      "execution_count": null,
      "outputs": [
        {
          "output_type": "error",
          "ename": "NameError",
          "evalue": "ignored",
          "traceback": [
            "\u001b[0;31m---------------------------------------------------------------------------\u001b[0m",
            "\u001b[0;31mNameError\u001b[0m                                 Traceback (most recent call last)",
            "\u001b[0;32m<ipython-input-18-edba86ded4e5>\u001b[0m in \u001b[0;36m<cell line: 13>\u001b[0;34m()\u001b[0m\n\u001b[1;32m     11\u001b[0m   \u001b[0;32mdel\u001b[0m \u001b[0mtape\u001b[0m\u001b[0;34m\u001b[0m\u001b[0;34m\u001b[0m\u001b[0m\n\u001b[1;32m     12\u001b[0m \u001b[0;34m\u001b[0m\u001b[0m\n\u001b[0;32m---> 13\u001b[0;31m \u001b[0mprint\u001b[0m\u001b[0;34m(\u001b[0m\u001b[0mgrads_tf_relu\u001b[0m\u001b[0;34m,\u001b[0m \u001b[0mgrads_my_relu\u001b[0m\u001b[0;34m)\u001b[0m\u001b[0;34m\u001b[0m\u001b[0;34m\u001b[0m\u001b[0m\n\u001b[0m",
            "\u001b[0;31mNameError\u001b[0m: name 'grads_tf_relu' is not defined"
          ]
        }
      ]
    }
  ]
}